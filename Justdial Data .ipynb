{
 "cells": [
  {
   "cell_type": "code",
   "execution_count": 14,
   "metadata": {},
   "outputs": [],
   "source": [
    "#!pip install webdriver_manager"
   ]
  },
  {
   "cell_type": "code",
   "execution_count": 2,
   "metadata": {},
   "outputs": [
    {
     "name": "stderr",
     "output_type": "stream",
     "text": [
      "\n",
      "\n",
      "====== WebDriver manager ======\n",
      "Current google-chrome version is 91.0.4472\n",
      "Get LATEST driver version for 91.0.4472\n",
      "Driver [C:\\Users\\Data Mining\\.wdm\\drivers\\chromedriver\\win32\\91.0.4472.101\\chromedriver.exe] found in cache\n"
     ]
    }
   ],
   "source": [
    "\n",
    "from selenium import webdriver\n",
    "from webdriver_manager.chrome import ChromeDriverManager\n",
    "\n",
    "driver = webdriver.Chrome(ChromeDriverManager().install())\n",
    "import pandas as pd\n",
    "import time\n",
    "import os"
   ]
  },
  {
   "cell_type": "code",
   "execution_count": 3,
   "metadata": {},
   "outputs": [],
   "source": [
    "driver.get(\"https://www.justdial.com/Mumbai/Plumbers/nct-10378025\")"
   ]
  },
  {
   "cell_type": "code",
   "execution_count": 4,
   "metadata": {},
   "outputs": [
    {
     "name": "stdout",
     "output_type": "stream",
     "text": [
      "                    Company Name                 Address             Phone\n",
      "0                 Chotelal Gupta  S V Road, Bhayanda.. |       07947177068\n",
      "1       Jai Maa Bhavani Plumbing  Patharli Road, Dom.. |       07947179767\n",
      "2  Vaishanavi Civil Contractor..     BDD Chawl-Worli.. |       07947327780\n",
      "3                  R.K.INTERIORS  S P Road, Wadala E.. |       07947436466\n",
      "4           Saeed Khan Carpenter  Dr.E.Mosses Road, .. |       07947246495\n",
      "5                A Z Enterprises  Pooja Nagar Road, .. |       07947174479\n",
      "6              Plumbing Solution  Marve Road, Malad .. |  +(91)-7021718945\n",
      "7           Mahalaxmi Electrical  Triputi Nagar Phas.. |       07947162465\n",
      "8             Madina Enterprises  Near Juhu Gali, An.. |       07947172876\n",
      "9          A To Z Plumbing Works  Jain Mandir, Andhe.. |       07947207276\n"
     ]
    }
   ],
   "source": [
    "def strings_to_num(argument): \n",
    "    \n",
    "    switcher = { \n",
    "        'dc': '+',\n",
    "        'fe': '(',\n",
    "        'hg': ')',\n",
    "        'ba': '-',\n",
    "        'acb': '0', \n",
    "        'yz': '1', \n",
    "        'wx': '2',\n",
    "        'vu': '3',\n",
    "        'ts': '4',\n",
    "        'rq': '5',\n",
    "        'po': '6',\n",
    "        'nm': '7',\n",
    "        'lk': '8',\n",
    "        'ji': '9'\n",
    "    } \n",
    "    return switcher.get(argument, \"nothing\")\n",
    "\n",
    "storeDetails = driver.find_elements_by_class_name('store-details')\n",
    "\n",
    "nameList = []\n",
    "addressList = []\n",
    "numbersList = []\n",
    "\n",
    "for i in range(len(storeDetails)):\n",
    "    \n",
    "    name = storeDetails[i].find_element_by_class_name('lng_cont_name').text\n",
    "    address = storeDetails[i].find_element_by_class_name('cont_sw_addr').text\n",
    "    contactList = storeDetails[i].find_elements_by_class_name('mobilesv')\n",
    "    \n",
    "    myList = []\n",
    "    \n",
    "    for j in range(len(contactList)):\n",
    "        \n",
    "        myString = contactList[j].get_attribute('class').split(\"-\")[1]\n",
    "    \n",
    "        myList.append(strings_to_num(myString))\n",
    "\n",
    "    nameList.append(name)\n",
    "    addressList.append(address)\n",
    "    numbersList.append(\"\".join(myList))\n",
    "\n",
    "\n",
    "    \n",
    "# intialise data of lists.\n",
    "data = {'Company Name':nameList,\n",
    "        'Address': addressList,\n",
    "        'Phone':numbersList}\n",
    "\n",
    "# Create DataFrame\n",
    "df = pd.DataFrame(data)\n",
    "print(df)\n",
    "\n",
    "# Save Data as .csv\n",
    "#df.to_csv('demo1.csv', mode='a', header=False)"
   ]
  },
  {
   "cell_type": "code",
   "execution_count": 5,
   "metadata": {},
   "outputs": [
    {
     "data": {
      "text/html": [
       "<div>\n",
       "<style scoped>\n",
       "    .dataframe tbody tr th:only-of-type {\n",
       "        vertical-align: middle;\n",
       "    }\n",
       "\n",
       "    .dataframe tbody tr th {\n",
       "        vertical-align: top;\n",
       "    }\n",
       "\n",
       "    .dataframe thead th {\n",
       "        text-align: right;\n",
       "    }\n",
       "</style>\n",
       "<table border=\"1\" class=\"dataframe\">\n",
       "  <thead>\n",
       "    <tr style=\"text-align: right;\">\n",
       "      <th></th>\n",
       "      <th>Company Name</th>\n",
       "      <th>Address</th>\n",
       "      <th>Phone</th>\n",
       "    </tr>\n",
       "  </thead>\n",
       "  <tbody>\n",
       "    <tr>\n",
       "      <th>0</th>\n",
       "      <td>Chotelal Gupta</td>\n",
       "      <td>S V Road, Bhayanda.. |</td>\n",
       "      <td>07947177068</td>\n",
       "    </tr>\n",
       "    <tr>\n",
       "      <th>1</th>\n",
       "      <td>Jai Maa Bhavani Plumbing</td>\n",
       "      <td>Patharli Road, Dom.. |</td>\n",
       "      <td>07947179767</td>\n",
       "    </tr>\n",
       "    <tr>\n",
       "      <th>2</th>\n",
       "      <td>Vaishanavi Civil Contractor..</td>\n",
       "      <td>BDD Chawl-Worli.. |</td>\n",
       "      <td>07947327780</td>\n",
       "    </tr>\n",
       "    <tr>\n",
       "      <th>3</th>\n",
       "      <td>R.K.INTERIORS</td>\n",
       "      <td>S P Road, Wadala E.. |</td>\n",
       "      <td>07947436466</td>\n",
       "    </tr>\n",
       "    <tr>\n",
       "      <th>4</th>\n",
       "      <td>Saeed Khan Carpenter</td>\n",
       "      <td>Dr.E.Mosses Road, .. |</td>\n",
       "      <td>07947246495</td>\n",
       "    </tr>\n",
       "    <tr>\n",
       "      <th>5</th>\n",
       "      <td>A Z Enterprises</td>\n",
       "      <td>Pooja Nagar Road, .. |</td>\n",
       "      <td>07947174479</td>\n",
       "    </tr>\n",
       "    <tr>\n",
       "      <th>6</th>\n",
       "      <td>Plumbing Solution</td>\n",
       "      <td>Marve Road, Malad .. |</td>\n",
       "      <td>+(91)-7021718945</td>\n",
       "    </tr>\n",
       "    <tr>\n",
       "      <th>7</th>\n",
       "      <td>Mahalaxmi Electrical</td>\n",
       "      <td>Triputi Nagar Phas.. |</td>\n",
       "      <td>07947162465</td>\n",
       "    </tr>\n",
       "    <tr>\n",
       "      <th>8</th>\n",
       "      <td>Madina Enterprises</td>\n",
       "      <td>Near Juhu Gali, An.. |</td>\n",
       "      <td>07947172876</td>\n",
       "    </tr>\n",
       "    <tr>\n",
       "      <th>9</th>\n",
       "      <td>A To Z Plumbing Works</td>\n",
       "      <td>Jain Mandir, Andhe.. |</td>\n",
       "      <td>07947207276</td>\n",
       "    </tr>\n",
       "  </tbody>\n",
       "</table>\n",
       "</div>"
      ],
      "text/plain": [
       "                    Company Name                 Address             Phone\n",
       "0                 Chotelal Gupta  S V Road, Bhayanda.. |       07947177068\n",
       "1       Jai Maa Bhavani Plumbing  Patharli Road, Dom.. |       07947179767\n",
       "2  Vaishanavi Civil Contractor..     BDD Chawl-Worli.. |       07947327780\n",
       "3                  R.K.INTERIORS  S P Road, Wadala E.. |       07947436466\n",
       "4           Saeed Khan Carpenter  Dr.E.Mosses Road, .. |       07947246495\n",
       "5                A Z Enterprises  Pooja Nagar Road, .. |       07947174479\n",
       "6              Plumbing Solution  Marve Road, Malad .. |  +(91)-7021718945\n",
       "7           Mahalaxmi Electrical  Triputi Nagar Phas.. |       07947162465\n",
       "8             Madina Enterprises  Near Juhu Gali, An.. |       07947172876\n",
       "9          A To Z Plumbing Works  Jain Mandir, Andhe.. |       07947207276"
      ]
     },
     "execution_count": 5,
     "metadata": {},
     "output_type": "execute_result"
    }
   ],
   "source": [
    "df"
   ]
  },
  {
   "cell_type": "code",
   "execution_count": null,
   "metadata": {},
   "outputs": [],
   "source": []
  }
 ],
 "metadata": {
  "kernelspec": {
   "display_name": "Python 3",
   "language": "python",
   "name": "python3"
  },
  "language_info": {
   "codemirror_mode": {
    "name": "ipython",
    "version": 3
   },
   "file_extension": ".py",
   "mimetype": "text/x-python",
   "name": "python",
   "nbconvert_exporter": "python",
   "pygments_lexer": "ipython3",
   "version": "3.8.3"
  }
 },
 "nbformat": 4,
 "nbformat_minor": 4
}
